{
 "metadata": {
  "language_info": {
   "codemirror_mode": {
    "name": "ipython",
    "version": 3
   },
   "file_extension": ".py",
   "mimetype": "text/x-python",
   "name": "python",
   "nbconvert_exporter": "python",
   "pygments_lexer": "ipython3",
   "version": "3.8.5-final"
  },
  "orig_nbformat": 2,
  "kernelspec": {
   "name": "python38564bitnnconda048fc75fe4ee43f1aa97608c8881ebba",
   "display_name": "Python 3.8.5 64-bit ('nn': conda)",
   "language": "python"
  }
 },
 "nbformat": 4,
 "nbformat_minor": 2,
 "cells": [
  {
   "source": [
    "### BenchMark in Interaction baselines, FIM excluded"
   ],
   "cell_type": "markdown",
   "metadata": {}
  },
  {
   "cell_type": "code",
   "execution_count": 1,
   "metadata": {},
   "outputs": [],
   "source": [
    "import os\n",
    "import sys\n",
    "os.chdir('../')\n",
    "sys.path.append('../')\n",
    "\n",
    "import torch\n",
    "from utils.utils import evaluate,train,prepare\n",
    "from models.ITR_CNN_CNN import GCAModel"
   ]
  },
  {
   "cell_type": "code",
   "execution_count": 2,
   "metadata": {},
   "outputs": [],
   "source": [
    "hparams = {\n",
    "    'scale':'demo',\n",
    "    'name':'itr-cnn-cnn',\n",
    "    'batch_size':10,\n",
    "    'title_size':20,\n",
    "    'his_size':50,\n",
    "    'npratio':4,\n",
    "    'dropout_p':0.2,\n",
    "    'query_dim':200,\n",
    "    'embedding_dim':300,\n",
    "    'filter_num':400,\n",
    "    'value_dim':16,\n",
    "    'head_num':16,\n",
    "    'epochs':5,\n",
    "    'metrics':'auc,mean_mrr,ndcg@5,ndcg@10',\n",
    "    'device':'cuda:0',\n",
    "    'attrs': ['title'],\n",
    "    'k':-1,\n",
    "    'select':None,\n",
    "    'save_step':[0],\n",
    "    \n",
    "    'train_embedding':True,\n",
    "    'mode':'train',\n",
    "    'news_id':False,\n",
    "    'validate':False,\n",
    "}\n",
    "\n",
    ""
   ]
  },
  {
   "cell_type": "code",
   "execution_count": 3,
   "metadata": {},
   "outputs": [],
   "source": [
    "vocab, loaders = prepare(hparams)"
   ]
  },
  {
   "cell_type": "code",
   "execution_count": 4,
   "metadata": {},
   "outputs": [],
   "source": [
    "gcaModel = GCAModel(hparams, vocab=vocab).to(hparams['device'])"
   ]
  },
  {
   "cell_type": "code",
   "execution_count": 5,
   "metadata": {},
   "outputs": [
    {
     "output_type": "stream",
     "name": "stdout",
     "text": [
      "training...\n",
      "epoch 1 , step 200 , loss: 1.5759: : 298it [00:05, 56.87it/s]\n",
      "epoch 2 , step 200 , loss: 1.4765: : 298it [00:04, 62.53it/s]\n",
      "epoch 3 , step 200 , loss: 1.4070: : 298it [00:04, 61.97it/s]\n",
      "epoch 4 , step 200 , loss: 1.3323: : 298it [00:04, 63.02it/s]\n",
      "epoch 5 , step 200 , loss: 1.2887: : 298it [00:04, 61.19it/s]\n",
      "evaluating...\n",
      "1815it [00:16, 109.51it/s]\n",
      "evaluation results:{'auc': 0.56, 'mean_mrr': 0.2469, 'ndcg@5': 0.2559, 'ndcg@10': 0.3266}\n"
     ]
    },
    {
     "output_type": "execute_result",
     "data": {
      "text/plain": [
       "GCAModel(\n",
       "  (softmax): Softmax(dim=-1)\n",
       "  (ReLU): ReLU()\n",
       "  (DropOut): Dropout(p=0.2, inplace=False)\n",
       "  (CNN): Conv1d(300, 400, kernel_size=(3,), stride=(1,), padding=(1,))\n",
       "  (SeqCNN): Sequential(\n",
       "    (0): Conv2d(1, 32, kernel_size=(3, 3), stride=(1, 1), padding=(1, 1))\n",
       "    (1): ReLU()\n",
       "    (2): MaxPool2d(kernel_size=(3, 3), stride=(3, 3), padding=0, dilation=1, ceil_mode=False)\n",
       "    (3): Conv2d(32, 16, kernel_size=(3, 3), stride=(1, 1), padding=(1, 1))\n",
       "    (4): ReLU()\n",
       "    (5): MaxPool2d(kernel_size=(3, 3), stride=(3, 3), padding=0, dilation=1, ceil_mode=False)\n",
       "  )\n",
       "  (learningToRank): Linear(in_features=64, out_features=1, bias=True)\n",
       ")"
      ]
     },
     "metadata": {},
     "execution_count": 5
    }
   ],
   "source": [
    "train(gcaModel, hparams, loaders, interval=10)"
   ]
  },
  {
   "cell_type": "code",
   "execution_count": null,
   "metadata": {},
   "outputs": [],
   "source": []
  }
 ]
}