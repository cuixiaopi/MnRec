{
 "metadata": {
  "language_info": {
   "codemirror_mode": {
    "name": "ipython",
    "version": 3
   },
   "file_extension": ".py",
   "mimetype": "text/x-python",
   "name": "python",
   "nbconvert_exporter": "python",
   "pygments_lexer": "ipython3",
   "version": "3.8.5-final"
  },
  "orig_nbformat": 2,
  "kernelspec": {
   "name": "python3",
   "display_name": "Python 3",
   "language": "python"
  }
 },
 "nbformat": 4,
 "nbformat_minor": 2,
 "cells": [
  {
   "cell_type": "code",
   "execution_count": 1,
   "metadata": {},
   "outputs": [],
   "source": [
    "import os\n",
    "import sys\n",
    "os.chdir('../')\n",
    "sys.path.append('../')\n",
    "\n",
    "import torch\n",
    "from utils.utils import evaluate,train,prepare\n",
    "from models.baseline_MHA_MHA import GCAModel_greedy"
   ]
  },
  {
   "cell_type": "code",
   "execution_count": 10,
   "metadata": {},
   "outputs": [],
   "source": [
    "hparams = {\n",
    "    'scale':'demo',\n",
    "    'epochs':5,\n",
    "    'name':'baseline',\n",
    "    'batch_size':5,\n",
    "    'title_size':20,\n",
    "    'his_size':50,\n",
    "    'npratio':4,\n",
    "    'dropout_p':0.2,\n",
    "    'query_dim':200,\n",
    "    'embedding_dim':300,\n",
    "    'value_dim':16,\n",
    "    'head_num':16,\n",
    "    'metrics':'auc,mean_mrr,ndcg@5,ndcg@10',\n",
    "    'device':'cuda:0',\n",
    "    'attrs': ['title'],\n",
    "    'k': 5,\n",
    "    'select':None\n",
    "    \n",
    "    'save_step':[0],\n",
    "    'train_embedding':True,\n",
    "    'mode':'train',\n",
    "    'news_id':False,\n",
    "    'validate':False,\n",
    "}\n",
    "\n",
    " if torch.cuda.is_available() else torch.device(\"cpu\")"
   ]
  },
  {
   "cell_type": "code",
   "execution_count": 3,
   "metadata": {},
   "outputs": [],
   "source": [
    "vocab, loaders = prepare(hparams)"
   ]
  },
  {
   "cell_type": "code",
   "execution_count": 11,
   "metadata": {},
   "outputs": [],
   "source": [
    "gcaModel = GCAModel_greedy(hparams, vocab=vocab).to(hparams['device'])"
   ]
  },
  {
   "cell_type": "code",
   "execution_count": 12,
   "metadata": {},
   "outputs": [
    {
     "output_type": "stream",
     "name": "stdout",
     "text": [
      "training...\n",
      "epoch 0 , step 390 , loss: 1.5649: : 400it [00:36, 10.85it/s]\n",
      "epoch 1 , step 390 , loss: 1.5204: : 400it [00:34, 11.50it/s]\n",
      "epoch 2 , step 390 , loss: 1.5144: : 400it [00:37, 10.73it/s]\n",
      "epoch 3 , step 390 , loss: 1.4923: : 400it [00:36, 10.94it/s]\n",
      "epoch 4 , step 390 , loss: 1.4813: : 400it [00:34, 11.50it/s]\n",
      "3it [00:00, 21.19it/s]testing...\n",
      "3622it [02:08, 28.18it/s]\n",
      "4it [00:00, 38.53it/s]evaluation results:{'group_auc': 0.5504, 'ndcg@5': 0.263, 'ndcg@10': 0.3235, 'mean_mrr': 0.2502}\n",
      "validating...\n",
      "15062it [08:48, 28.51it/s]\n",
      "evaluation results:{'group_auc': 0.6408, 'ndcg@5': 0.3406, 'ndcg@10': 0.3964, 'mean_mrr': 0.3192}\n"
     ]
    }
   ],
   "source": [
    "train(gcaModel, hparams, loaders, interval=10)"
   ]
  },
  {
   "cell_type": "code",
   "execution_count": null,
   "metadata": {},
   "outputs": [],
   "source": []
  }
 ]
}