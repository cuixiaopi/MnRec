{
 "metadata": {
  "language_info": {
   "codemirror_mode": {
    "name": "ipython",
    "version": 3
   },
   "file_extension": ".py",
   "mimetype": "text/x-python",
   "name": "python",
   "nbconvert_exporter": "python",
   "pygments_lexer": "ipython3",
   "version": "3.7.9-final"
  },
  "orig_nbformat": 2,
  "kernelspec": {
   "name": "python37964bit4c03300bedca44f8b0013abe02048abc",
   "display_name": "Python 3.7.9 64-bit",
   "language": "python"
  }
 },
 "nbformat": 4,
 "nbformat_minor": 2,
 "cells": [
  {
   "cell_type": "code",
   "execution_count": 1,
   "metadata": {},
   "outputs": [],
   "source": [
    "import os\n",
    "import sys\n",
    "os.chdir('../')\n",
    "sys.path.append('../')\n",
    "\n",
    "import torch\n",
    "from utils.utils import evaluate,train,prepare\n",
    "from models.ITR_CNN_MHA import GCAModel"
   ]
  },
  {
   "cell_type": "code",
   "execution_count": 2,
   "metadata": {},
   "outputs": [],
   "source": [
    "hparams = {\n",
    "    'scale':'demo',\n",
    "    'name':'itr-cnn-mha',\n",
    "    'batch_size':16,\n",
    "    'title_size':20,\n",
    "    'his_size':30,\n",
    "    'npratio':4,\n",
    "    'dropout_p':0.2,\n",
    "    'query_dim':200,\n",
    "    'embedding_dim':300,\n",
    "    'filter_num':400,\n",
    "    'value_dim':16,\n",
    "    'head_num':16,\n",
    "    'epochs':5,\n",
    "    'metrics':'auc,mean_mrr,ndcg@5,ndcg@10',\n",
    "    'device':'cuda:1',\n",
    "    'attrs': ['title'],\n",
    "    'k':-1,\n",
    "    'select':None,\n",
    "    'save_step':[0],\n",
    "    \n",
    "    'train_embedding':True,\n",
    "    'mode':'train',\n",
    "    'news_id':False,\n",
    "    'validate':False,\n",
    "}\n",
    "\n",
    ""
   ]
  },
  {
   "cell_type": "code",
   "execution_count": 3,
   "metadata": {},
   "outputs": [],
   "source": [
    "vocab, loaders = prepare(hparams)"
   ]
  },
  {
   "cell_type": "code",
   "execution_count": 5,
   "metadata": {},
   "outputs": [
    {
     "output_type": "stream",
     "name": "stdout",
     "text": [
      "training...\n",
      "epoch 0 , step 120 , loss: 1.5559: : 125it [00:43,  2.88it/s]\n",
      "epoch 1 , step 120 , loss: 1.4900: : 125it [00:43,  2.91it/s]\n",
      "epoch 2 , step 120 , loss: 1.4407: : 125it [00:43,  2.91it/s]\n",
      "epoch 3 , step 120 , loss: 1.4026: : 125it [00:42,  2.91it/s]\n",
      "epoch 4 , step 120 , loss: 1.3584: : 125it [00:43,  2.91it/s]\n",
      "0it [00:00, ?it/s]save success!\n",
      "testing...\n",
      "1131it [00:37, 30.26it/s]\n",
      "0it [00:00, ?it/s]evaluation results:{'group_auc': 0.5348, 'ndcg@5': 0.2423, 'ndcg@10': 0.3113, 'mean_mrr': 0.2308}\n",
      "validating...\n",
      "4706it [02:31, 31.02it/s]\n",
      "evaluation results:{'group_auc': 0.7166, 'ndcg@5': 0.3925, 'ndcg@10': 0.453, 'mean_mrr': 0.3656}\n"
     ]
    }
   ],
   "source": [
    "train(gcaModel, hparams, loaders, interval=10)"
   ]
  },
  {
   "cell_type": "code",
   "execution_count": null,
   "metadata": {},
   "outputs": [],
   "source": []
  }
 ]
}